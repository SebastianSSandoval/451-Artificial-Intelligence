{
  "cells": [
    {
      "cell_type": "code",
      "execution_count": 3,
      "metadata": {
        "colab": {
          "base_uri": "https://localhost:8080/"
        },
        "id": "bnFR-zsat9vt",
        "outputId": "15cf30bf-d4e2-48e9-d1bc-e6fe86ba1542"
      },
      "outputs": [
        {
          "name": "stdout",
          "output_type": "stream",
          "text": [
            "Requirement already satisfied: openai==0.28 in c:\\users\\seaba\\appdata\\local\\programs\\python\\python311\\lib\\site-packages (0.28.0)\n",
            "Requirement already satisfied: requests>=2.20 in c:\\users\\seaba\\appdata\\local\\programs\\python\\python311\\lib\\site-packages (from openai==0.28) (2.23.0)\n",
            "Requirement already satisfied: tqdm in c:\\users\\seaba\\appdata\\local\\programs\\python\\python311\\lib\\site-packages (from openai==0.28) (4.67.1)\n",
            "Requirement already satisfied: aiohttp in c:\\users\\seaba\\appdata\\local\\programs\\python\\python311\\lib\\site-packages (from openai==0.28) (3.11.12)\n",
            "Requirement already satisfied: chardet<4,>=3.0.2 in c:\\users\\seaba\\appdata\\local\\programs\\python\\python311\\lib\\site-packages (from requests>=2.20->openai==0.28) (3.0.4)\n",
            "Requirement already satisfied: idna<3,>=2.5 in c:\\users\\seaba\\appdata\\local\\programs\\python\\python311\\lib\\site-packages (from requests>=2.20->openai==0.28) (2.10)\n",
            "Requirement already satisfied: urllib3!=1.25.0,!=1.25.1,<1.26,>=1.21.1 in c:\\users\\seaba\\appdata\\local\\programs\\python\\python311\\lib\\site-packages (from requests>=2.20->openai==0.28) (1.25.11)\n",
            "Requirement already satisfied: certifi>=2017.4.17 in c:\\users\\seaba\\appdata\\local\\programs\\python\\python311\\lib\\site-packages (from requests>=2.20->openai==0.28) (2024.8.30)\n",
            "Requirement already satisfied: aiohappyeyeballs>=2.3.0 in c:\\users\\seaba\\appdata\\local\\programs\\python\\python311\\lib\\site-packages (from aiohttp->openai==0.28) (2.4.4)\n",
            "Requirement already satisfied: aiosignal>=1.1.2 in c:\\users\\seaba\\appdata\\local\\programs\\python\\python311\\lib\\site-packages (from aiohttp->openai==0.28) (1.3.2)\n",
            "Requirement already satisfied: attrs>=17.3.0 in c:\\users\\seaba\\appdata\\local\\programs\\python\\python311\\lib\\site-packages (from aiohttp->openai==0.28) (25.1.0)\n",
            "Requirement already satisfied: frozenlist>=1.1.1 in c:\\users\\seaba\\appdata\\local\\programs\\python\\python311\\lib\\site-packages (from aiohttp->openai==0.28) (1.5.0)\n",
            "Requirement already satisfied: multidict<7.0,>=4.5 in c:\\users\\seaba\\appdata\\local\\programs\\python\\python311\\lib\\site-packages (from aiohttp->openai==0.28) (6.1.0)\n",
            "Requirement already satisfied: propcache>=0.2.0 in c:\\users\\seaba\\appdata\\local\\programs\\python\\python311\\lib\\site-packages (from aiohttp->openai==0.28) (0.2.1)\n",
            "Requirement already satisfied: yarl<2.0,>=1.17.0 in c:\\users\\seaba\\appdata\\local\\programs\\python\\python311\\lib\\site-packages (from aiohttp->openai==0.28) (1.18.3)\n",
            "Requirement already satisfied: colorama in c:\\users\\seaba\\appdata\\local\\programs\\python\\python311\\lib\\site-packages (from tqdm->openai==0.28) (0.4.6)\n"
          ]
        },
        {
          "name": "stderr",
          "output_type": "stream",
          "text": [
            "\n",
            "[notice] A new release of pip is available: 24.3.1 -> 25.0.1\n",
            "[notice] To update, run: python.exe -m pip install --upgrade pip\n"
          ]
        }
      ],
      "source": [
        "!pip install openai==0.28"
      ]
    },
    {
      "cell_type": "code",
      "execution_count": 4,
      "metadata": {
        "id": "PD5xMy-6uyl0"
      },
      "outputs": [],
      "source": [
        "import openai\n",
        "import os"
      ]
    },
    {
      "cell_type": "code",
      "execution_count": null,
      "metadata": {
        "id": "FRufDGCMu16k"
      },
      "outputs": [],
      "source": [
        "os.environ['OPENAI_API_KEY'] = ''\n",
        "openai.api_key = os.getenv('OPENAI_API_KEY')"
      ]
    },
    {
      "cell_type": "code",
      "execution_count": 6,
      "metadata": {
        "id": "t4uoRvkS883A"
      },
      "outputs": [],
      "source": [
        "def get_completion(prompt, model=\"gpt-3.5-turbo\"):\n",
        "    messages = [{\"role\": \"user\", \"content\": prompt}]\n",
        "    response = openai.ChatCompletion.create(\n",
        "        model=model,\n",
        "        messages=messages,\n",
        "        temperature=0, # this is the degree of randomness of the model's output\n",
        "    )\n",
        "    return response.choices[0].message[\"content\"]"
      ]
    },
    {
      "cell_type": "code",
      "execution_count": 7,
      "metadata": {
        "id": "A4t_zMsJ7wTz"
      },
      "outputs": [],
      "source": [
        "def get_completion_from_messages(messages, model=\"gpt-3.5-turbo\", temperature=0):\n",
        "    \"\"\"\n",
        "    Sends a list of messages to the OpenAI ChatCompletion API and returns the assistant's reply.\n",
        "\n",
        "    Args:\n",
        "        messages (list): A list of dictionaries representing the conversation history.\n",
        "        model (str): The model to use\n",
        "\n",
        "    Returns:\n",
        "        str: The assistant's reply from the API.\n",
        "    \"\"\"\n",
        "    response = openai.ChatCompletion.create(\n",
        "        model=model,\n",
        "        messages=messages,\n",
        "        temperature=temperature\n",
        "    )\n",
        "    assistant_reply = response['choices'][0]['message']['content']\n",
        "    return assistant_reply"
      ]
    },
    {
      "cell_type": "code",
      "execution_count": 8,
      "metadata": {
        "colab": {
          "base_uri": "https://localhost:8080/"
        },
        "id": "fap41dEI9H8m",
        "outputId": "965a7f54-c6ec-4cba-8fec-dc8a1daabc53"
      },
      "outputs": [
        {
          "name": "stdout",
          "output_type": "stream",
          "text": [
            "Hello CECS451! It's nice to meet you. How are you doing today?\n"
          ]
        }
      ],
      "source": [
        "messages =  [\n",
        "{'role':'system', 'content':'You are friendly chatbot.'},\n",
        "{'role':'user', 'content':'Hi, my name is CECS451'}  ]\n",
        "response = get_completion_from_messages(messages, temperature=1)\n",
        "print(response)"
      ]
    },
    {
      "cell_type": "code",
      "execution_count": 9,
      "metadata": {
        "colab": {
          "base_uri": "https://localhost:8080/"
        },
        "id": "NjqtdBXs9Oa8",
        "outputId": "020d7347-90b4-4662-c579-58aa8b9d0ed3"
      },
      "outputs": [
        {
          "name": "stdout",
          "output_type": "stream",
          "text": [
            "I'm sorry, but I am not able to store or access personal information about users. How can I assist you today?\n"
          ]
        }
      ],
      "source": [
        "messages =  [\n",
        "{'role':'system', 'content':'You are friendly chatbot.'},\n",
        "{'role':'user', 'content':'Yes,  can you remind me, What is my name?'}  ]\n",
        "response = get_completion_from_messages(messages, temperature=1)\n",
        "print(response)"
      ]
    },
    {
      "cell_type": "code",
      "execution_count": 10,
      "metadata": {
        "colab": {
          "base_uri": "https://localhost:8080/"
        },
        "id": "GUdLIonc9UCk",
        "outputId": "eb0f78df-fb97-4bcb-ccbc-411a954210b5"
      },
      "outputs": [
        {
          "name": "stdout",
          "output_type": "stream",
          "text": [
            "Your name is CECS451. How can I assist you further today?\n"
          ]
        }
      ],
      "source": [
        "messages =  [\n",
        "{'role':'system', 'content':'You are friendly chatbot.'},\n",
        "{'role':'user', 'content':'Hi, my name is CECS451'},\n",
        "{'role':'assistant', 'content': \"Hi CECS451! It's nice to meet you. \\\n",
        "Is there anything I can help you with today?\"},\n",
        "{'role':'user', 'content':'Yes, you can remind me, What is my name?'}  ]\n",
        "response = get_completion_from_messages(messages, temperature=1)\n",
        "print(response)"
      ]
    },
    {
      "cell_type": "code",
      "execution_count": 11,
      "metadata": {
        "id": "ZPURG9Hg4SPQ"
      },
      "outputs": [],
      "source": [
        "# Define the system context for OrderBot\n",
        "context = [\n",
        "    {\n",
        "        'role': 'system',\n",
        "        'content': \"\"\"\n",
        "You are OrderBot, an automated service to collect orders for a pizza restaurant.\n",
        "You first greet the customer, then collect the order, and then ask if it's a pickup or delivery.\n",
        "You wait to collect the entire order, then summarize it and ask one final time if the customer wants to add anything else.\n",
        "If it's a delivery, you ask for an address.\n",
        "Finally, you collect the payment.\n",
        "Make sure to clarify all options, extras and sizes to uniquely identify the item from the menu.\n",
        "For example, if a customer orders fries, ask \"Would you like small or large fries?\"\n",
        "The menu includes:\n",
        "- Pepperoni Pizza: $12.95 (large), $10.00 (medium), $7.00 (small)\n",
        "- Cheese Pizza: $10.95 (large), $9.25 (medium), $6.50 (small)\n",
        "- Eggplant Pizza: $11.95 (large), $9.75 (medium), $6.75 (small)\n",
        "- Fries: $4.50 (large), $3.50 (small)\n",
        "- Greek Salad: $7.25\n",
        "Toppings:\n",
        "- Extra Cheese: $2.00\n",
        "- Mushrooms: $1.50\n",
        "- Sausage: $3.00\n",
        "- Canadian Bacon: $3.50\n",
        "- AI Sauce: $1.50\n",
        "- Peppers: $1.00\n",
        "Drinks:\n",
        "- Coke: $3.00 (large), $2.00 (medium), $1.00 (small)\n",
        "- Sprite: $3.00 (large), $2.00 (medium), $1.00 (small)\n",
        "- Bottled Water: $5.00\n",
        "        \"\"\"\n",
        "    }\n",
        "]\n",
        "\n"
      ]
    },
    {
      "cell_type": "code",
      "execution_count": 12,
      "metadata": {
        "id": "srueHBm-74oU"
      },
      "outputs": [
        {
          "name": "stdout",
          "output_type": "stream",
          "text": [
            "OrderBot: Hi there! Welcome to our pizza place. What can I get for you today?\n",
            "OrderBot: Hello! Welcome to our pizza restaurant. How can I assist you today?\n",
            "OrderBot: Great! Let's start with your order. What would you like to have today?\n",
            "OrderBot: Here is our menu:\n",
            "\n",
            "1. Pepperoni Pizza:\n",
            "   - Large: $12.95\n",
            "   - Medium: $10.00\n",
            "   - Small: $7.00\n",
            "\n",
            "2. Cheese Pizza:\n",
            "   - Large: $10.95\n",
            "   - Medium: $9.25\n",
            "   - Small: $6.50\n",
            "\n",
            "3. Eggplant Pizza:\n",
            "   - Large: $11.95\n",
            "   - Medium: $9.75\n",
            "   - Small: $6.75\n",
            "\n",
            "4. Fries:\n",
            "   - Large: $4.50\n",
            "   - Small: $3.50\n",
            "\n",
            "5. Greek Salad: $7.25\n",
            "\n",
            "Toppings:\n",
            "- Extra Cheese: $2.00\n",
            "- Mushrooms: $1.50\n",
            "- Sausage: $3.00\n",
            "- Canadian Bacon: $3.50\n",
            "- AI Sauce: $1.50\n",
            "- Peppers: $1.00\n",
            "\n",
            "Drinks:\n",
            "- Coke:\n",
            "  - Large: $3.00\n",
            "  - Medium: $2.00\n",
            "  - Small: $1.00\n",
            "- Sprite:\n",
            "  - Large: $3.00\n",
            "  - Medium: $2.00\n",
            "  - Small: $1.00\n",
            "- Bottled Water: $5.00\n",
            "\n",
            "Please go ahead and let me know your order.\n",
            "OrderBot: I'm sorry, it seems like your message was cut off. Could you please let me know what you would like to order from the menu?\n",
            "OrderBot: Thank you for stopping by!\n"
          ]
        }
      ],
      "source": [
        "def order_bot():\n",
        "    print(\"OrderBot: Hi there! Welcome to our pizza place. What can I get for you today?\")\n",
        "\n",
        "    while True:\n",
        "        user_input = input(\"You: \")\n",
        "        if user_input.lower() in [\"quit\", \"exit\"]:\n",
        "            print(\"OrderBot: Thank you for stopping by!\")\n",
        "            break\n",
        "\n",
        "        # Append the user input to the context\n",
        "        context.append({'role': 'user', 'content': user_input})\n",
        "\n",
        "        # Get the assistant's reply using our helper function\n",
        "        assistant_reply = get_completion_from_messages(context)\n",
        "        print(f\"OrderBot: {assistant_reply}\")\n",
        "        context.append({'role': 'assistant', 'content': assistant_reply})\n",
        "\n",
        "        # Only break if the assistant clearly signals that it's time to collect payment\n",
        "        if \"please enter your payment information\" in assistant_reply.lower() or \\\n",
        "           \"order confirmed\" in assistant_reply.lower():\n",
        "            payment_info = input(\"You (payment details): \")\n",
        "            print(f\"OrderBot: Payment received: {payment_info}. Your order is on its way!\")\n",
        "            break\n",
        "\n",
        "# Run the OrderBot\n",
        "order_bot()"
      ]
    },
    {
      "cell_type": "code",
      "execution_count": 13,
      "metadata": {
        "id": "xx9QL7URv4hE"
      },
      "outputs": [
        {
          "name": "stdout",
          "output_type": "stream",
          "text": [
            "```json\n",
            "{\n",
            "    \"order\": {\n",
            "        \"pizza\": {\n",
            "            \"type\": \"Pepperoni Pizza\",\n",
            "            \"size\": \"Large\",\n",
            "            \"price\": 12.95\n",
            "        },\n",
            "        \"toppings\": [\n",
            "            {\n",
            "                \"name\": \"Extra Cheese\",\n",
            "                \"price\": 2.00\n",
            "            },\n",
            "            {\n",
            "                \"name\": \"Mushrooms\",\n",
            "                \"price\": 1.50\n",
            "            }\n",
            "        ],\n",
            "        \"drinks\": [\n",
            "            {\n",
            "                \"name\": \"Coke\",\n",
            "                \"size\": \"Large\",\n",
            "                \"price\": 3.00\n",
            "            }\n",
            "        ],\n",
            "        \"sides\": [],\n",
            "        \"total_price\": 19.45\n",
            "    }\n",
            "}\n",
            "```\n"
          ]
        }
      ],
      "source": [
        "messages =  context.copy()\n",
        "messages.append(\n",
        "{'role':'system', 'content':'create a json summary of the previous food order. Itemize the price for each item\\\n",
        " The fields should be 1) pizza, include size 2) list of toppings 3) list of drinks, include size   4) list of sides include size  5)total price '},\n",
        ")\n",
        " #The fields should be 1) pizza, price 2) list of toppings 3) list of drinks, include size include price  4) list of sides include size include price, 5)total price '},\n",
        "\n",
        "response = get_completion_from_messages(messages, temperature=0)\n",
        "print(response)"
      ]
    }
  ],
  "metadata": {
    "colab": {
      "provenance": []
    },
    "kernelspec": {
      "display_name": "Python 3",
      "name": "python3"
    },
    "language_info": {
      "codemirror_mode": {
        "name": "ipython",
        "version": 3
      },
      "file_extension": ".py",
      "mimetype": "text/x-python",
      "name": "python",
      "nbconvert_exporter": "python",
      "pygments_lexer": "ipython3",
      "version": "3.11.4"
    }
  },
  "nbformat": 4,
  "nbformat_minor": 0
}
