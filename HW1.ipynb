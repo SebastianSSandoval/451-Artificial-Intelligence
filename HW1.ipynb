{
  "cells": [
    {
      "cell_type": "markdown",
      "metadata": {
        "id": "0ng8vB0EvhQe"
      },
      "source": [
        "**Programming Assignment of CECS 451, Sp25 : Designing a Customer Service Chatbot**"
      ]
    },
    {
      "cell_type": "markdown",
      "metadata": {
        "id": "PbXmbgvIvmhc"
      },
      "source": [
        "**Objective:**  \n",
        "In this assignment, you will design and implement a chatbot that simulates an automated customer service assistant for an e-commerce website. The chatbot should interact with customers in a friendly, conversational manner, assist with common queries, track orders, and process basic service requests. This project will help you understand concepts related to natural language processing, API integration, and chatbot development.\n",
        "\n",
        "**Assignment Description:**  \n",
        "You are tasked with creating a **ServiceBot** for a fictional e-commerce company of your choice. The bot should be able to:\n",
        "\n",
        "1. **Greet the customer** in a friendly manner.\n",
        "2. **Assist with common inquiries** such as checking order status, refund requests, or product information.\n",
        "3. **Collect relevant information** like order number, email, or product details.\n",
        "4. **Provide responses based on the customer's query**, including confirmation messages.\n",
        "5. **Handle follow-up questions** and maintain the context of the conversation.\n",
        "6. **End the conversation politely**, ensuring the customer’s issue is resolved."
      ]
    },
    {
      "cell_type": "markdown",
      "metadata": {
        "id": "QLuJofv2vt63"
      },
      "source": [
        "**Requirements:**\n",
        "- Use Python as the programming language.\n",
        "- Integrate with the OpenAI API\n",
        "- Maintain a conversational flow using appropriate prompts and responses.\n",
        "- Implement **at least 3 different service functions** (e.g., order tracking, return processing, product inquiry).\n",
        "- Ensure proper error handling for unexpected inputs.\n",
        "- Maintain a **conversation history** to handle multi-turn interactions.\n",
        "\n",
        "**Suggested Steps:**\n",
        "1. Define the services your chatbot will offer.\n",
        "2. Design the conversation flow, ensuring smooth transitions between greeting, assistance, and closing the conversation.\n",
        "3. Implement the chatbot logic using conditional statements and loops.\n",
        "\n",
        "\n",
        "**Sample Interaction:**\n",
        "```\n",
        "ServiceBot: Hi there! Welcome to ShopEase customer support. How can I assist you today?\n",
        "Customer: I want to check the status of my order.\n",
        "ServiceBot: Sure! Could you please provide your order number?\n",
        "Customer: It’s 45678.\n",
        "ServiceBot: Thank you. Your order #45678 is currently out for delivery and should arrive by tomorrow.\n",
        "Customer: Great, thanks!\n",
        "ServiceBot: You're welcome! Is there anything else I can help you with?\n",
        "Customer: No, that's all.\n",
        "ServiceBot: Have a wonderful day!\n",
        "```\n",
        "\n",
        "\n",
        "\n"
      ]
    },
    {
      "cell_type": "markdown",
      "metadata": {
        "id": "2Tmeo8pgvzRC"
      },
      "source": [
        "**Submission Guidelines:**\n",
        "- Submit your .ipynb file including necessary comments e.g. explaining how to run the chatbot.\n",
        "- Include sample conversations showcasing different customer service scenarios.\n",
        "\n",
        "**Evaluation Criteria:**\n",
        "- Completeness of features and conversation flow. (3 points)\n",
        "- Code readability and organization. (3 points)\n",
        "- Error handling and user experience. (2 points)\n",
        "- Creativity in service design and chatbot personality. (2 points)"
      ]
    },
    {
      "cell_type": "code",
      "execution_count": null,
      "metadata": {
        "id": "9QoURSafvtop"
      },
      "outputs": [],
      "source": []
    },
    {
      "cell_type": "code",
      "execution_count": null,
      "metadata": {
        "id": "87V_2Z9zvhsL"
      },
      "outputs": [],
      "source": []
    }
  ],
  "metadata": {
    "colab": {
      "provenance": []
    },
    "kernelspec": {
      "display_name": "Python 3",
      "name": "python3"
    },
    "language_info": {
      "name": "python"
    }
  },
  "nbformat": 4,
  "nbformat_minor": 0
}
