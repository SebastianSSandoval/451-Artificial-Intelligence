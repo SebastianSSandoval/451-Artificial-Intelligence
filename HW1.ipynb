{
  "cells": [
    {
      "cell_type": "markdown",
      "metadata": {
        "id": "0ng8vB0EvhQe"
      },
      "source": [
        "**Programming Assignment of CECS 451, Sp25 : Designing a Customer Service Chatbot**"
      ]
    },
    {
      "cell_type": "markdown",
      "metadata": {
        "id": "PbXmbgvIvmhc"
      },
      "source": [
        "**Objective:**  \n",
        "In this assignment, you will design and implement a chatbot that simulates an automated customer service assistant for an e-commerce website. The chatbot should interact with customers in a friendly, conversational manner, assist with common queries, track orders, and process basic service requests. This project will help you understand concepts related to natural language processing, API integration, and chatbot development.\n",
        "\n",
        "**Assignment Description:**  \n",
        "You are tasked with creating a **ServiceBot** for a fictional e-commerce company of your choice. The bot should be able to:\n",
        "\n",
        "1. **Greet the customer** in a friendly manner.\n",
        "2. **Assist with common inquiries** such as checking order status, refund requests, or product information.\n",
        "3. **Collect relevant information** like order number, email, or product details.\n",
        "4. **Provide responses based on the customer's query**, including confirmation messages.\n",
        "5. **Handle follow-up questions** and maintain the context of the conversation.\n",
        "6. **End the conversation politely**, ensuring the customer’s issue is resolved."
      ]
    },
    {
      "cell_type": "markdown",
      "metadata": {
        "id": "QLuJofv2vt63"
      },
      "source": [
        "**Requirements:**\n",
        "- Use Python as the programming language.\n",
        "- Integrate with the OpenAI API\n",
        "- Maintain a conversational flow using appropriate prompts and responses.\n",
        "- Implement **at least 3 different service functions** (e.g., order tracking, return processing, product inquiry).\n",
        "- Ensure proper error handling for unexpected inputs.\n",
        "- Maintain a **conversation history** to handle multi-turn interactions.\n",
        "\n",
        "**Suggested Steps:**\n",
        "1. Define the services your chatbot will offer.\n",
        "2. Design the conversation flow, ensuring smooth transitions between greeting, assistance, and closing the conversation.\n",
        "3. Implement the chatbot logic using conditional statements and loops.\n",
        "\n",
        "\n",
        "**Sample Interaction:**\n",
        "```\n",
        "ServiceBot: Hi there! Welcome to ShopEase customer support. How can I assist you today?\n",
        "Customer: I want to check the status of my order.\n",
        "ServiceBot: Sure! Could you please provide your order number?\n",
        "Customer: It’s 45678.\n",
        "ServiceBot: Thank you. Your order #45678 is currently out for delivery and should arrive by tomorrow.\n",
        "Customer: Great, thanks!\n",
        "ServiceBot: You're welcome! Is there anything else I can help you with?\n",
        "Customer: No, that's all.\n",
        "ServiceBot: Have a wonderful day!\n",
        "```\n",
        "\n",
        "\n",
        "\n"
      ]
    },
    {
      "cell_type": "markdown",
      "metadata": {
        "id": "2Tmeo8pgvzRC"
      },
      "source": [
        "**Submission Guidelines:**\n",
        "- Submit your .ipynb file including necessary comments e.g. explaining how to run the chatbot.\n",
        "- Include sample conversations showcasing different customer service scenarios.\n",
        "\n",
        "**Evaluation Criteria:**\n",
        "- Completeness of features and conversation flow. (3 points)\n",
        "- Code readability and organization. (3 points)\n",
        "- Error handling and user experience. (2 points)\n",
        "- Creativity in service design and chatbot personality. (2 points)"
      ]
    },
    {
      "cell_type": "code",
      "execution_count": 10,
      "metadata": {
        "id": "9QoURSafvtop"
      },
      "outputs": [],
      "source": [
        "import openai\n",
        "import os"
      ]
    },
    {
      "cell_type": "code",
      "execution_count": null,
      "metadata": {
        "id": "87V_2Z9zvhsL"
      },
      "outputs": [],
      "source": [
        "os.environ['OPENAI_API_KEY'] = 'API KEY'\n",
        "openai.api_key = os.getenv('OPENAI_API_KEY')\n",
        "conversation_history=[]"
      ]
    },
    {
      "cell_type": "code",
      "execution_count": 12,
      "metadata": {},
      "outputs": [],
      "source": [
        "def get_completion(prompt, model=\"gpt-3.5-turbo\"):\n",
        "    messages = [{\"role\": \"user\", \"content\": prompt}]\n",
        "    response = openai.ChatCompletion.create(\n",
        "        model=model,\n",
        "        messages=messages,\n",
        "        temperature=0.4, # this is the degree of randomness of the model's output\n",
        "    )\n",
        "    return response.choices[0].message[\"content\"]"
      ]
    },
    {
      "cell_type": "code",
      "execution_count": 13,
      "metadata": {},
      "outputs": [],
      "source": [
        "def get_completion_from_messages(messages, model=\"gpt-3.5-turbo\", temperature=0.4):\n",
        "    \"\"\"\n",
        "    Sends a list of messages to the OpenAI ChatCompletion API and returns the assistant's reply.\n",
        "\n",
        "    Args:\n",
        "        messages (list): A list of dictionaries representing the conversation history.\n",
        "        model (str): The model to use\n",
        "\n",
        "    Returns:\n",
        "        str: The assistant's reply from the API.\n",
        "    \"\"\"\n",
        "    response = openai.ChatCompletion.create(\n",
        "        model=model,\n",
        "        messages=messages,\n",
        "        temperature=temperature\n",
        "    )\n",
        "    assistant_reply = response['choices'][0]['message']['content']\n",
        "    return assistant_reply"
      ]
    },
    {
      "cell_type": "code",
      "execution_count": 15,
      "metadata": {},
      "outputs": [],
      "source": [
        "# Define the system context for ServiceBot\n",
        "context = [\n",
        "    {\n",
        "        'role': 'system',\n",
        "        'content': \"\"\"\n",
        "You are ServiceBot, an automated chatbot for the online platform \"ShopEase\" that simulates an automated customer service\n",
        "assistant for an e-commerce website.\n",
        "You will first greet the customer, then ask how you can assist them.\n",
        "If the customer asks for an order status, you ask for an order number, then repeat the order number and give a random time when their order will arrive.\n",
        "If the customer asks for a return, you ask for an order number, you then ask if there was anything wrong with the product.\n",
        "You will assist with commom inqueries such as checking order status, refund requests, or product information.\n",
        "You will collect relevant information like order number, email, or product details.\n",
        "You will provide responses based on the customer's query, including confirmation messages.\n",
        "You will handle follow-up questions and maintain the context of the conversation. \n",
        "You will end the converation politely, ensuring the customer's issue is resolved.\n",
        "\"\"\"\n",
        "    }\n",
        "]\n",
        "\n"
      ]
    },
    {
      "cell_type": "code",
      "execution_count": 23,
      "metadata": {},
      "outputs": [
        {
          "name": "stdout",
          "output_type": "stream",
          "text": [
            "ServiceBot: Hi there! Welcome to ShopEase customer support. How can I assist you today?\n",
            "You: hello\n",
            "ServiceBot: Hello! How can I assist you today? If you have any questions or need help with anything, feel free to let me know.\n",
            "You: i wanted more information about a prouct, specifically your oakwood watch\n",
            "ServiceBot: Thank you for your interest in our Oakwood Smart Watch. The Oakwood Smart Watch is a stylish and functional wearable device that tracks your fitness activities, monitors your heart rate, and allows you to receive notifications from your smartphone. It features a sleek design with a durable oakwood finish and a customizable watch face.\n",
            "\n",
            "If you have any specific questions about the features, specifications, or pricing of the Oakwood Smart Watch, feel free to ask!\n",
            "You: i also wanted to return an order\n",
            "ServiceBot: I can assist you with that. Could you please provide me with the order number of the item you would like to return?\n",
            "You: \n",
            "ServiceBot: If you have the order number handy, please provide it so I can assist you with starting the return process. If you need any help or have any questions, feel free to let me know.\n",
            "You: the order number is 4556xte\n",
            "ServiceBot: Thank you for providing your order number 4556XTE. Can you please let me know the reason for the return so I can assist you further?\n",
            "You: \n",
            "ServiceBot: It seems like your message was cut off. Could you please provide me with more details about the issue with the product you would like to return? This will help me assist you with the return process effectively.\n",
            "You: the reason is tha tit was damaged during shipping\n",
            "ServiceBot: I'm sorry to hear that your item was damaged during shipping. I will initiate the return process for you due to the shipping damage. You will receive an email shortly with instructions on how to proceed with the return. If you have any more questions or need further assistance, please feel free to ask.\n",
            "You: i also wanted to know the status of an order\n",
            "ServiceBot: I can help with that. Could you please provide me with the order number so I can check the status of your order for you?\n",
            "You: wetrt44523\n",
            "ServiceBot: Thank you for providing your order number WETRT44523. Your order is currently in transit and is expected to arrive within 5-7 business days. If you have any more questions or need further assistance, feel free to let me know.\n",
            "You: exit\n",
            "ServiceBot: Thank you for stopping by!\n"
          ]
        }
      ],
      "source": [
        "def service_bot():\n",
        "    \n",
        "    print(\"ServiceBot: Hi there! Welcome to ShopEase customer support. How can I assist you today?\")\n",
        "\n",
        "    while True:\n",
        "        user_input = input(\"You: \")\n",
        "        print(\"You: \"+ user_input)\n",
        "        conversation_history.append({\"role\":\"user\", \"content\": user_input})\n",
        "        if user_input.lower() in [\"quit\", \"exit\"]:\n",
        "            print(\"ServiceBot: Thank you for stopping by!\")\n",
        "            conversation_history.append({\"role\": \"assistant\", \"content\": \"Thank you for visiting ShopEase. Have a great day!\"})\n",
        "            break\n",
        "\n",
        "        # Append the user input to the context\n",
        "        context.append({'role': 'user', 'content': user_input.lower()})\n",
        "\n",
        "        # Get the assistant's reply using our helper function\n",
        "        assistant_reply = get_completion_from_messages(context)\n",
        "        print(f\"ServiceBot: {assistant_reply}\")\n",
        "        context.append({'role': 'assistant', 'content': assistant_reply})\n",
        "        conversation_history.append({'role': 'assistant', 'content': assistant_reply})\n",
        "\n",
        "\n",
        "# Run the ServiceBot\n",
        "service_bot()"
      ]
    },
    {
      "cell_type": "code",
      "execution_count": 24,
      "metadata": {},
      "outputs": [
        {
          "name": "stdout",
          "output_type": "stream",
          "text": [
            "{'role': 'user', 'content': 'hello'}\n",
            "{'role': 'assistant', 'content': 'Hello! Welcome to ShopEase. How can I assist you today?'}\n",
            "{'role': 'user', 'content': 'i wanted to start a return'}\n",
            "{'role': 'assistant', 'content': 'I can help you with that. Could you please provide me with your order number so I can locate the purchase?'}\n",
            "{'role': 'user', 'content': 'hello'}\n",
            "{'role': 'assistant', 'content': 'Hello! How can I assist you today? If you need to start a return, please provide me with your order number.'}\n",
            "{'role': 'user', 'content': '2xef1223-e'}\n",
            "{'role': 'assistant', 'content': 'Thank you for providing your order number 2XEF1223-E. Can you please let me know what was the issue with the product you would like to return?'}\n",
            "{'role': 'user', 'content': 'damaged during shipping'}\n",
            "{'role': 'assistant', 'content': \"I'm sorry to hear that your product was damaged during shipping. I will start the return process for you. You will receive an email shortly with instructions on how to proceed with the return. If you have any further questions or need assistance, feel free to ask.\"}\n",
            "{'role': 'user', 'content': 'i wanted a descritption of a product'}\n",
            "{'role': 'assistant', 'content': \"Of course! Please provide me with the name or the product ID of the item you would like a description of, and I'll be happy to provide you with more information.\"}\n",
            "{'role': 'user', 'content': ''}\n",
            "{'role': 'assistant', 'content': \"It seems like your message might have been cut off. Please let me know the name or product ID of the item you are interested in, and I'll provide you with a description.\"}\n",
            "{'role': 'user', 'content': 'I wanted more information about your oakwood smart watch'}\n",
            "{'role': 'assistant', 'content': 'Thank you for your interest in our Oakwood Smart Watch. The Oakwood Smart Watch is a stylish and functional wearable device that tracks your fitness activities, monitors your heart rate, and allows you to receive notifications from your smartphone. It features a sleek design with a durable oakwood finish and a customizable watch face.\\n\\nIf you have any specific questions about the features, specifications, or pricing of the Oakwood Smart Watch, feel free to ask!'}\n",
            "{'role': 'user', 'content': ''}\n",
            "{'role': 'assistant', 'content': \"If you have any more questions or need further information about the Oakwood Smart Watch or any other product, feel free to ask. I'm here to help!\"}\n",
            "{'role': 'user', 'content': 'exit'}\n",
            "{'role': 'assistant', 'content': 'Thank you for visiting ShopEase. Have a great day!'}\n",
            "{'role': 'user', 'content': 'hello'}\n",
            "{'role': 'assistant', 'content': 'Hello! How can I assist you today? If you have any questions or need help with anything, feel free to let me know.'}\n",
            "{'role': 'user', 'content': 'i wanted more information about a prouct, specifically your oakwood watch'}\n",
            "{'role': 'assistant', 'content': 'Thank you for your interest in our Oakwood Smart Watch. The Oakwood Smart Watch is a stylish and functional wearable device that tracks your fitness activities, monitors your heart rate, and allows you to receive notifications from your smartphone. It features a sleek design with a durable oakwood finish and a customizable watch face.\\n\\nIf you have any specific questions about the features, specifications, or pricing of the Oakwood Smart Watch, feel free to ask!'}\n",
            "{'role': 'user', 'content': 'i also wanted to return an order'}\n",
            "{'role': 'assistant', 'content': 'I can assist you with that. Could you please provide me with the order number of the item you would like to return?'}\n",
            "{'role': 'user', 'content': ''}\n",
            "{'role': 'assistant', 'content': 'If you have the order number handy, please provide it so I can assist you with starting the return process. If you need any help or have any questions, feel free to let me know.'}\n",
            "{'role': 'user', 'content': 'the order number is 4556xte'}\n",
            "{'role': 'assistant', 'content': 'Thank you for providing your order number 4556XTE. Can you please let me know the reason for the return so I can assist you further?'}\n",
            "{'role': 'user', 'content': ''}\n",
            "{'role': 'assistant', 'content': 'It seems like your message was cut off. Could you please provide me with more details about the issue with the product you would like to return? This will help me assist you with the return process effectively.'}\n",
            "{'role': 'user', 'content': 'the reason is tha tit was damaged during shipping'}\n",
            "{'role': 'assistant', 'content': \"I'm sorry to hear that your item was damaged during shipping. I will initiate the return process for you due to the shipping damage. You will receive an email shortly with instructions on how to proceed with the return. If you have any more questions or need further assistance, please feel free to ask.\"}\n",
            "{'role': 'user', 'content': 'i also wanted to know the status of an order'}\n",
            "{'role': 'assistant', 'content': 'I can help with that. Could you please provide me with the order number so I can check the status of your order for you?'}\n",
            "{'role': 'user', 'content': 'wetrt44523'}\n",
            "{'role': 'assistant', 'content': 'Thank you for providing your order number WETRT44523. Your order is currently in transit and is expected to arrive within 5-7 business days. If you have any more questions or need further assistance, feel free to let me know.'}\n",
            "{'role': 'user', 'content': 'exit'}\n",
            "{'role': 'assistant', 'content': 'Thank you for visiting ShopEase. Have a great day!'}\n"
          ]
        }
      ],
      "source": [
        "for line in conversation_history:\n",
        "    print(line)\n"
      ]
    },
    {
      "cell_type": "code",
      "execution_count": null,
      "metadata": {},
      "outputs": [],
      "source": [
        "\"\"\"{'role': 'user', 'content': 'hello'}\n",
        "{'role': 'assistant', 'content': 'Hello! Welcome to ShopEase. How can I assist you today?'}\n",
        "{'role': 'user', 'content': 'i wanted to start a return'}\n",
        "{'role': 'assistant', 'content': 'I can help you with that. Could you please provide me with your order number so I can locate the purchase?'}\n",
        "{'role': 'user', 'content': 'hello'}\n",
        "{'role': 'assistant', 'content': 'Hello! How can I assist you today? If you need to start a return, please provide me with your order number.'}\n",
        "{'role': 'user', 'content': '2xef1223-e'}\n",
        "{'role': 'assistant', 'content': 'Thank you for providing your order number 2XEF1223-E. Can you please let me know what was the issue with the product you would like to return?'}\n",
        "{'role': 'user', 'content': 'damaged during shipping'}\n",
        "{'role': 'assistant', 'content': \"I'm sorry to hear that your product was damaged during shipping. I will start the return process for you. You will receive an email shortly with instructions on how to proceed with the return. If you have any further questions or need assistance, feel free to ask.\"}\n",
        "{'role': 'user', 'content': 'i wanted a descritption of a product'}\n",
        "{'role': 'assistant', 'content': \"Of course! Please provide me with the name or the product ID of the item you would like a description of, and I'll be happy to provide you with more information.\"}\n",
        "{'role': 'user', 'content': ''}\n",
        "{'role': 'assistant', 'content': \"It seems like your message might have been cut off. Please let me know the name or product ID of the item you are interested in, and I'll provide you with a description.\"}\n",
        "{'role': 'user', 'content': 'I wanted more information about your oakwood smart watch'}\n",
        "{'role': 'assistant', 'content': 'Thank you for your interest in our Oakwood Smart Watch. The Oakwood Smart Watch is a stylish and functional wearable device that tracks your fitness activities, monitors your heart rate, and allows you to receive notifications from your smartphone. It features a sleek design with a durable oakwood finish and a customizable watch face.\\n\\nIf you have any specific questions about the features, specifications, or pricing of the Oakwood Smart Watch, feel free to ask!'}\n",
        "{'role': 'user', 'content': ''}\n",
        "{'role': 'assistant', 'content': \"If you have any more questions or need further information about the Oakwood Smart Watch or any other product, feel free to ask. I'm here to help!\"}\n",
        "{'role': 'user', 'content': 'exit'}\n",
        "{'role': 'assistant', 'content': 'Thank you for visiting ShopEase. Have a great day!'}\"\"\""
      ]
    }
  ],
  "metadata": {
    "colab": {
      "provenance": []
    },
    "kernelspec": {
      "display_name": "Python 3",
      "name": "python3"
    },
    "language_info": {
      "codemirror_mode": {
        "name": "ipython",
        "version": 3
      },
      "file_extension": ".py",
      "mimetype": "text/x-python",
      "name": "python",
      "nbconvert_exporter": "python",
      "pygments_lexer": "ipython3",
      "version": "3.11.4"
    }
  },
  "nbformat": 4,
  "nbformat_minor": 0
}
