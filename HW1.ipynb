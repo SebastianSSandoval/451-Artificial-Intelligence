{
  "cells": [
    {
      "cell_type": "markdown",
      "metadata": {
        "id": "0ng8vB0EvhQe"
      },
      "source": [
        "**Programming Assignment of CECS 451, Sp25 : Designing a Customer Service Chatbot**"
      ]
    },
    {
      "cell_type": "markdown",
      "metadata": {
        "id": "PbXmbgvIvmhc"
      },
      "source": [
        "**Objective:**  \n",
        "In this assignment, you will design and implement a chatbot that simulates an automated customer service assistant for an e-commerce website. The chatbot should interact with customers in a friendly, conversational manner, assist with common queries, track orders, and process basic service requests. This project will help you understand concepts related to natural language processing, API integration, and chatbot development.\n",
        "\n",
        "**Assignment Description:**  \n",
        "You are tasked with creating a **ServiceBot** for a fictional e-commerce company of your choice. The bot should be able to:\n",
        "\n",
        "1. **Greet the customer** in a friendly manner.\n",
        "2. **Assist with common inquiries** such as checking order status, refund requests, or product information.\n",
        "3. **Collect relevant information** like order number, email, or product details.\n",
        "4. **Provide responses based on the customer's query**, including confirmation messages.\n",
        "5. **Handle follow-up questions** and maintain the context of the conversation.\n",
        "6. **End the conversation politely**, ensuring the customer’s issue is resolved."
      ]
    },
    {
      "cell_type": "markdown",
      "metadata": {
        "id": "QLuJofv2vt63"
      },
      "source": [
        "**Requirements:**\n",
        "- Use Python as the programming language.\n",
        "- Integrate with the OpenAI API\n",
        "- Maintain a conversational flow using appropriate prompts and responses.\n",
        "- Implement **at least 3 different service functions** (e.g., order tracking, return processing, product inquiry).\n",
        "- Ensure proper error handling for unexpected inputs.\n",
        "- Maintain a **conversation history** to handle multi-turn interactions.\n",
        "\n",
        "**Suggested Steps:**\n",
        "1. Define the services your chatbot will offer.\n",
        "2. Design the conversation flow, ensuring smooth transitions between greeting, assistance, and closing the conversation.\n",
        "3. Implement the chatbot logic using conditional statements and loops.\n",
        "\n",
        "\n",
        "**Sample Interaction:**\n",
        "```\n",
        "ServiceBot: Hi there! Welcome to ShopEase customer support. How can I assist you today?\n",
        "Customer: I want to check the status of my order.\n",
        "ServiceBot: Sure! Could you please provide your order number?\n",
        "Customer: It’s 45678.\n",
        "ServiceBot: Thank you. Your order #45678 is currently out for delivery and should arrive by tomorrow.\n",
        "Customer: Great, thanks!\n",
        "ServiceBot: You're welcome! Is there anything else I can help you with?\n",
        "Customer: No, that's all.\n",
        "ServiceBot: Have a wonderful day!\n",
        "```\n",
        "\n",
        "\n",
        "\n"
      ]
    },
    {
      "cell_type": "markdown",
      "metadata": {
        "id": "2Tmeo8pgvzRC"
      },
      "source": [
        "**Submission Guidelines:**\n",
        "- Submit your .ipynb file including necessary comments e.g. explaining how to run the chatbot.\n",
        "- Include sample conversations showcasing different customer service scenarios.\n",
        "\n",
        "**Evaluation Criteria:**\n",
        "- Completeness of features and conversation flow. (3 points)\n",
        "- Code readability and organization. (3 points)\n",
        "- Error handling and user experience. (2 points)\n",
        "- Creativity in service design and chatbot personality. (2 points)"
      ]
    },
    {
      "cell_type": "code",
      "execution_count": 16,
      "metadata": {
        "id": "9QoURSafvtop"
      },
      "outputs": [],
      "source": [
        "import openai\n",
        "import os"
      ]
    },
    {
      "cell_type": "code",
      "execution_count": null,
      "metadata": {
        "id": "87V_2Z9zvhsL"
      },
      "outputs": [],
      "source": [
        "os.environ['OPENAI_API_KEY'] = ''\n",
        "openai.api_key = os.getenv('OPENAI_API_KEY')"
      ]
    },
    {
      "cell_type": "code",
      "execution_count": 18,
      "metadata": {},
      "outputs": [],
      "source": [
        "def get_completion(prompt, model=\"gpt-3.5-turbo\"):\n",
        "    messages = [{\"role\": \"user\", \"content\": prompt}]\n",
        "    response = openai.ChatCompletion.create(\n",
        "        model=model,\n",
        "        messages=messages,\n",
        "        temperature=0, # this is the degree of randomness of the model's output\n",
        "    )\n",
        "    return response.choices[0].message[\"content\"]"
      ]
    },
    {
      "cell_type": "code",
      "execution_count": 19,
      "metadata": {},
      "outputs": [],
      "source": [
        "def get_completion_from_messages(messages, model=\"gpt-3.5-turbo\", temperature=0):\n",
        "    \"\"\"\n",
        "    Sends a list of messages to the OpenAI ChatCompletion API and returns the assistant's reply.\n",
        "\n",
        "    Args:\n",
        "        messages (list): A list of dictionaries representing the conversation history.\n",
        "        model (str): The model to use\n",
        "\n",
        "    Returns:\n",
        "        str: The assistant's reply from the API.\n",
        "    \"\"\"\n",
        "    response = openai.ChatCompletion.create(\n",
        "        model=model,\n",
        "        messages=messages,\n",
        "        temperature=temperature\n",
        "    )\n",
        "    assistant_reply = response['choices'][0]['message']['content']\n",
        "    return assistant_reply"
      ]
    },
    {
      "cell_type": "code",
      "execution_count": 20,
      "metadata": {},
      "outputs": [
        {
          "name": "stdout",
          "output_type": "stream",
          "text": [
            "Your name is CECS451.\n"
          ]
        }
      ],
      "source": [
        "messages =  [\n",
        "{'role':'system', 'content':'You are friendly chatbot.'},\n",
        "{'role':'user', 'content':'Hi, my name is CECS451'},\n",
        "{'role':'assistant', 'content': \"Hi CECS451! It's nice to meet you. \\\n",
        "Is there anything I can help you with today?\"},\n",
        "{'role':'user', 'content':'Yes, you can remind me, What is my name?'}  ]\n",
        "response = get_completion_from_messages(messages, temperature=1)\n",
        "print(response)"
      ]
    },
    {
      "cell_type": "code",
      "execution_count": null,
      "metadata": {},
      "outputs": [],
      "source": [
        "# Define the system context for ServiceBot\n",
        "context = [\n",
        "    {\n",
        "        'role': 'system',\n",
        "        'content': \"\"\"\n",
        "You are ServiceBot, an automated chatbot that simulates an autoamted customer service\n",
        "assistant for an e-commerce website.\n",
        "You will first greet the customer, then ask how you can assist them.\n",
        "If the customer asks for an order status, you ask for an order number, then give a random time when their order will arrive.\n",
        "If the customer asks for a return, you ask for an order number, you then ask if there was anything wrong with the product.\n",
        "\n",
        "You will assist with commom inqueries such as checking order status, refund requests, or product information.\n",
        "You will collect relevant information like order number, email, or product details.\n",
        "You will provide responses based on the customer's query, including confirmation messages.\n",
        "You will handle follow-up questions and maintain the context of the conversation. \n",
        "You will end the converation politely, ensuring the customer's issue is resolved.\n",
        "\n",
        "The products include:\n",
        "- Oak Watch - \n",
        "        \"\"\"\n",
        "    }\n",
        "]\n",
        "\n"
      ]
    },
    {
      "cell_type": "code",
      "execution_count": null,
      "metadata": {},
      "outputs": [
        {
          "name": "stdout",
          "output_type": "stream",
          "text": [
            "ServiceBot: Hi there! Welcome to ShopEase customer support. How can I assist you today?\n"
          ]
        }
      ],
      "source": [
        "def service_bot():\n",
        "    print(\"ServiceBot: Hi there! Welcome to ShopEase customer support. How can I assist you today?\")\n",
        "\n",
        "    while True:\n",
        "        user_input = input(\"You: \")\n",
        "        if user_input.lower() in [\"quit\", \"exit\"]:\n",
        "            print(\"ServiceBot: Thank you for stopping by!\")\n",
        "            break\n",
        "\n",
        "        # Append the user input to the context\n",
        "        context.append({'role': 'user', 'content': user_input})\n",
        "\n",
        "        # Get the assistant's reply using our helper function\n",
        "        assistant_reply = get_completion_from_messages(context)\n",
        "        print(f\"ServiceBot: {assistant_reply}\")\n",
        "        context.append({'role': 'assistant', 'content': assistant_reply})\n",
        "\n",
        "        # Only break if the assistant clearly signals that it's time to collect payment\n",
        "        if \"please enter your payment information\" in assistant_reply.lower() or \\\n",
        "           \"order confirmed\" in assistant_reply.lower():\n",
        "            payment_info = input(\"You (payment details): \")\n",
        "            print(f\"ServiceBot: Payment received: {payment_info}. Your order is on its way!\")\n",
        "            break\n",
        "\n",
        "# Run the ServiceBot\n",
        "service_bot()"
      ]
    },
    {
      "cell_type": "code",
      "execution_count": null,
      "metadata": {},
      "outputs": [],
      "source": [
        "messages =  context.copy()\n",
        "messages.append(\n",
        "{'role':'system', 'content':'create a json summary of the previous food order. Itemize the price for each item\\\n",
        " The fields should be 1) pizza, include size 2) list of toppings 3) list of drinks, include size   4) list of sides include size  5)total price '},\n",
        ")\n",
        " #The fields should be 1) pizza, price 2) list of toppings 3) list of drinks, include size include price  4) list of sides include size include price, 5)total price '},\n",
        "\n",
        "response = get_completion_from_messages(messages, temperature=0)\n",
        "print(response)"
      ]
    }
  ],
  "metadata": {
    "colab": {
      "provenance": []
    },
    "kernelspec": {
      "display_name": "Python 3",
      "name": "python3"
    },
    "language_info": {
      "codemirror_mode": {
        "name": "ipython",
        "version": 3
      },
      "file_extension": ".py",
      "mimetype": "text/x-python",
      "name": "python",
      "nbconvert_exporter": "python",
      "pygments_lexer": "ipython3",
      "version": "3.11.4"
    }
  },
  "nbformat": 4,
  "nbformat_minor": 0
}
